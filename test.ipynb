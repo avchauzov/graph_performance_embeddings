{
 "cells": [
  {
   "cell_type": "code",
   "execution_count": 1,
   "id": "initial_id",
   "metadata": {},
   "outputs": [
    {
     "data": {
      "text/html": [
       "<style>.container { width:100% !important; }</style>"
      ],
      "text/plain": [
       "<IPython.core.display.HTML object>"
      ]
     },
     "metadata": {},
     "output_type": "display_data"
    }
   ],
   "source": [
    "from IPython.display import display, HTML\n",
    "\n",
    "\n",
    "display(HTML('<style>.container { width:100% !important; }</style>'))"
   ]
  },
  {
   "cell_type": "code",
   "execution_count": 2,
   "id": "37cc880d",
   "metadata": {},
   "outputs": [
    {
     "name": "stdout",
     "output_type": "stream",
     "text": [
      "Requirement already satisfied: seaborn in c:\\_work\\graph_performance_embeddings\\lib\\site-packages (0.13.2)\n",
      "Requirement already satisfied: numpy!=1.24.0,>=1.20 in c:\\_work\\graph_performance_embeddings\\lib\\site-packages (from seaborn) (1.24.4)\n",
      "Requirement already satisfied: pandas>=1.2 in c:\\_work\\graph_performance_embeddings\\lib\\site-packages (from seaborn) (2.0.3)\n",
      "Requirement already satisfied: matplotlib!=3.6.1,>=3.4 in c:\\_work\\graph_performance_embeddings\\lib\\site-packages (from seaborn) (3.7.5)\n",
      "Requirement already satisfied: contourpy>=1.0.1 in c:\\_work\\graph_performance_embeddings\\lib\\site-packages (from matplotlib!=3.6.1,>=3.4->seaborn) (1.1.1)\n",
      "Requirement already satisfied: cycler>=0.10 in c:\\_work\\graph_performance_embeddings\\lib\\site-packages (from matplotlib!=3.6.1,>=3.4->seaborn) (0.12.1)\n",
      "Requirement already satisfied: fonttools>=4.22.0 in c:\\_work\\graph_performance_embeddings\\lib\\site-packages (from matplotlib!=3.6.1,>=3.4->seaborn) (4.49.0)\n",
      "Requirement already satisfied: kiwisolver>=1.0.1 in c:\\_work\\graph_performance_embeddings\\lib\\site-packages (from matplotlib!=3.6.1,>=3.4->seaborn) (1.4.5)\n",
      "Requirement already satisfied: packaging>=20.0 in c:\\_work\\graph_performance_embeddings\\lib\\site-packages (from matplotlib!=3.6.1,>=3.4->seaborn) (23.2)\n",
      "Requirement already satisfied: pillow>=6.2.0 in c:\\_work\\graph_performance_embeddings\\lib\\site-packages (from matplotlib!=3.6.1,>=3.4->seaborn) (10.2.0)\n",
      "Requirement already satisfied: pyparsing>=2.3.1 in c:\\_work\\graph_performance_embeddings\\lib\\site-packages (from matplotlib!=3.6.1,>=3.4->seaborn) (3.1.1)\n",
      "Requirement already satisfied: python-dateutil>=2.7 in c:\\_work\\graph_performance_embeddings\\lib\\site-packages (from matplotlib!=3.6.1,>=3.4->seaborn) (2.8.2)\n",
      "Requirement already satisfied: importlib-resources>=3.2.0 in c:\\_work\\graph_performance_embeddings\\lib\\site-packages (from matplotlib!=3.6.1,>=3.4->seaborn) (6.1.1)\n",
      "Requirement already satisfied: pytz>=2020.1 in c:\\_work\\graph_performance_embeddings\\lib\\site-packages (from pandas>=1.2->seaborn) (2024.1)\n",
      "Requirement already satisfied: tzdata>=2022.1 in c:\\_work\\graph_performance_embeddings\\lib\\site-packages (from pandas>=1.2->seaborn) (2024.1)\n",
      "Requirement already satisfied: zipp>=3.1.0 in c:\\_work\\graph_performance_embeddings\\lib\\site-packages (from importlib-resources>=3.2.0->matplotlib!=3.6.1,>=3.4->seaborn) (3.17.0)\n",
      "Requirement already satisfied: six>=1.5 in c:\\_work\\graph_performance_embeddings\\lib\\site-packages (from python-dateutil>=2.7->matplotlib!=3.6.1,>=3.4->seaborn) (1.16.0)\n"
     ]
    },
    {
     "name": "stderr",
     "output_type": "stream",
     "text": [
      "\n",
      "[notice] A new release of pip is available: 23.2.1 -> 24.0\n",
      "[notice] To update, run: python.exe -m pip install --upgrade pip\n"
     ]
    }
   ],
   "source": [
    "# !pip3 install torch_geometric\n",
    "!pip3 install seaborn"
   ]
  },
  {
   "cell_type": "code",
   "execution_count": 3,
   "id": "983c03ad",
   "metadata": {},
   "outputs": [],
   "source": [
    "\n",
    "from sklearn.model_selection import train_test_split\n",
    "from sklearn.preprocessing import MinMaxScaler\n",
    "import numpy as np\n",
    "from sklearn.linear_model import LinearRegression\n",
    "from sklearn.metrics import mean_squared_error\n",
    "import matplotlib.pyplot as plt\n",
    "from single_graph_construction_approach import single_graph_construction\n",
    "from synthetic_graph import convert_networkx_to_pyg\n",
    "from cl import train_model\n",
    "import torch\n",
    "from pylab import rcParams\n",
    "\n",
    "\n",
    "rcParams['figure.figsize'] = 25, 2.5"
   ]
  },
  {
   "cell_type": "code",
   "execution_count": 4,
   "id": "fd23c72d",
   "metadata": {},
   "outputs": [],
   "source": [
    "#"
   ]
  },
  {
   "cell_type": "code",
   "execution_count": 5,
   "id": "c3cc28ac",
   "metadata": {},
   "outputs": [],
   "source": [
    "num_samples = 16384\n",
    "num_features = 8\n",
    "\n",
    "X = np.random.rand(num_samples, num_features)\n",
    "coefficients = np.random.rand(num_features)\n",
    "\n",
    "y = X.dot(coefficients)"
   ]
  },
  {
   "cell_type": "code",
   "execution_count": 6,
   "id": "c9f9005e",
   "metadata": {},
   "outputs": [],
   "source": [
    "X_train, X_temp, y_train, y_temp = train_test_split(X, y, train_size=0.75)\n",
    "X_test, X_val, y_test, y_val = train_test_split(X_temp, y_temp, test_size=0.50)"
   ]
  },
  {
   "cell_type": "code",
   "execution_count": 7,
   "id": "7fbe868b",
   "metadata": {},
   "outputs": [],
   "source": [
    "scaler = MinMaxScaler()\n",
    "\n",
    "X_train = scaler.fit_transform(X_train)\n",
    "X_test = scaler.transform(X_test)\n",
    "X_val = scaler.transform(X_val)"
   ]
  },
  {
   "cell_type": "code",
   "execution_count": 8,
   "id": "846e2141",
   "metadata": {},
   "outputs": [
    {
     "name": "stdout",
     "output_type": "stream",
     "text": [
      "Train set:  (12288, 8) (12288,)\n",
      "Test set:  (2048, 8) (2048,)\n",
      "Validation set:  (2048, 8) (2048,)\n"
     ]
    }
   ],
   "source": [
    "print('Train set: ', X_train.shape, y_train.shape)\n",
    "print('Test set: ', X_test.shape, y_test.shape)\n",
    "print('Validation set: ', X_val.shape, y_val.shape)"
   ]
  },
  {
   "cell_type": "code",
   "execution_count": 9,
   "id": "924478b0",
   "metadata": {},
   "outputs": [],
   "source": [
    "#"
   ]
  },
  {
   "cell_type": "code",
   "execution_count": 10,
   "id": "01a5c40a",
   "metadata": {},
   "outputs": [
    {
     "name": "stdout",
     "output_type": "stream",
     "text": [
      "Constructing G_train\n",
      "Constructing G_validation\n",
      "Constructing G_test\n"
     ]
    }
   ],
   "source": [
    "print('Constructing G_train')\n",
    "G_train = single_graph_construction(X_train, n_neighbors=8)\n",
    "\n",
    "print('Constructing G_validation')\n",
    "G_validation = single_graph_construction(X_val, n_neighbors=8)\n",
    "\n",
    "print('Constructing G_test')\n",
    "G_test = single_graph_construction(X_test, n_neighbors=8)"
   ]
  },
  {
   "cell_type": "code",
   "execution_count": 11,
   "id": "1bdf465b",
   "metadata": {},
   "outputs": [
    {
     "name": "stderr",
     "output_type": "stream",
     "text": [
      "C:\\_work\\graph_performance_embeddings\\lib\\site-packages\\torch_geometric\\utils\\convert.py:260: UserWarning: Creating a tensor from a list of numpy.ndarrays is extremely slow. Please consider converting the list to a single numpy.ndarray with numpy.array() before converting to a tensor. (Triggered internally at  C:\\actions-runner\\_work\\pytorch\\pytorch\\builder\\windows\\pytorch\\torch\\csrc\\utils\\tensor_new.cpp:204.)\n",
      "  data[key] = torch.tensor(value)\n",
      "C:\\_work\\graph_performance_embeddings\\lib\\site-packages\\torch_geometric\\deprecation.py:22: UserWarning: 'dropout_adj' is deprecated, use 'dropout_edge' instead\n",
      "  warnings.warn(out)\n"
     ]
    },
    {
     "name": "stdout",
     "output_type": "stream",
     "text": [
      "Epoch: 1, Train Loss: 8.296870231628418, Val Loss: 5.9571757316589355\n",
      "Epoch: 2, Train Loss: 7.4426798820495605, Val Loss: 5.570206165313721\n",
      "Epoch: 3, Train Loss: 6.973114490509033, Val Loss: 4.978651523590088\n",
      "Epoch: 4, Train Loss: 6.558297634124756, Val Loss: 4.6082234382629395\n",
      "Epoch: 5, Train Loss: 6.136484146118164, Val Loss: 4.239538669586182\n",
      "Epoch: 6, Train Loss: 5.771861553192139, Val Loss: 4.015406131744385\n",
      "Epoch: 7, Train Loss: 5.548708438873291, Val Loss: 3.732728958129883\n",
      "Epoch: 8, Train Loss: 5.32700252532959, Val Loss: 3.723797082901001\n",
      "Epoch: 9, Train Loss: 5.171746253967285, Val Loss: 3.659212112426758\n",
      "Epoch: 10, Train Loss: 5.075957298278809, Val Loss: 3.455040693283081\n",
      "Epoch: 11, Train Loss: 5.015131950378418, Val Loss: 3.5598134994506836\n",
      "Epoch: 12, Train Loss: 4.965322017669678, Val Loss: 3.380821943283081\n",
      "Epoch: 13, Train Loss: 4.886703014373779, Val Loss: 3.373566150665283\n",
      "Epoch: 14, Train Loss: 4.82982063293457, Val Loss: 3.3454856872558594\n",
      "Epoch: 15, Train Loss: 4.764298439025879, Val Loss: 3.2179923057556152\n",
      "Epoch: 16, Train Loss: 4.738347053527832, Val Loss: 3.2607717514038086\n",
      "Epoch: 17, Train Loss: 4.701338291168213, Val Loss: 3.199242115020752\n",
      "Epoch: 18, Train Loss: 4.627352237701416, Val Loss: 3.1246817111968994\n",
      "Epoch: 19, Train Loss: 4.618545055389404, Val Loss: 3.1372263431549072\n",
      "Epoch: 20, Train Loss: 4.5663838386535645, Val Loss: 3.0457122325897217\n",
      "Epoch: 21, Train Loss: 4.5127177238464355, Val Loss: 3.0426700115203857\n",
      "Epoch: 22, Train Loss: 4.512489318847656, Val Loss: 3.067793369293213\n",
      "Epoch: 23, Train Loss: 4.461636543273926, Val Loss: 2.98343825340271\n",
      "Epoch: 24, Train Loss: 4.4579176902771, Val Loss: 2.9783289432525635\n",
      "Epoch: 25, Train Loss: 4.406521797180176, Val Loss: 2.9544920921325684\n",
      "Epoch: 26, Train Loss: 4.379112243652344, Val Loss: 2.9684104919433594\n",
      "Epoch: 27, Train Loss: 4.350958347320557, Val Loss: 2.9914839267730713\n",
      "Epoch: 28, Train Loss: 4.335377216339111, Val Loss: 2.9100656509399414\n",
      "Epoch: 29, Train Loss: 4.285624980926514, Val Loss: 2.831421136856079\n",
      "Epoch: 30, Train Loss: 4.2535786628723145, Val Loss: 2.8581900596618652\n",
      "Epoch: 31, Train Loss: 4.25592565536499, Val Loss: 2.850475549697876\n",
      "Epoch: 32, Train Loss: 4.243314743041992, Val Loss: 2.8742239475250244\n",
      "Epoch: 33, Train Loss: 4.195793628692627, Val Loss: 2.8009939193725586\n",
      "Epoch: 34, Train Loss: 4.171206951141357, Val Loss: 2.7801520824432373\n",
      "Epoch: 35, Train Loss: 4.173351764678955, Val Loss: 2.833562135696411\n",
      "Epoch: 36, Train Loss: 4.155709743499756, Val Loss: 2.6677751541137695\n",
      "Epoch: 37, Train Loss: 4.130852222442627, Val Loss: 2.7134454250335693\n",
      "Epoch: 38, Train Loss: 4.107457637786865, Val Loss: 2.6787517070770264\n",
      "Epoch: 39, Train Loss: 4.078253269195557, Val Loss: 2.703131675720215\n",
      "Epoch: 40, Train Loss: 4.083263874053955, Val Loss: 2.679535388946533\n",
      "Epoch: 41, Train Loss: 4.05729341506958, Val Loss: 2.661555051803589\n",
      "Epoch: 42, Train Loss: 4.044198036193848, Val Loss: 2.652538776397705\n",
      "Epoch: 43, Train Loss: 4.051498889923096, Val Loss: 2.67989182472229\n",
      "Epoch: 44, Train Loss: 4.032917022705078, Val Loss: 2.655104398727417\n",
      "Epoch: 45, Train Loss: 4.0155816078186035, Val Loss: 2.608668327331543\n",
      "Epoch: 46, Train Loss: 4.002225875854492, Val Loss: 2.638843059539795\n",
      "Epoch: 47, Train Loss: 4.005048751831055, Val Loss: 2.638460397720337\n",
      "Epoch: 48, Train Loss: 3.9950780868530273, Val Loss: 2.62591814994812\n",
      "Epoch: 49, Train Loss: 3.9783709049224854, Val Loss: 2.6729164123535156\n",
      "Epoch: 50, Train Loss: 3.9753682613372803, Val Loss: 2.6351778507232666\n",
      "Epoch: 51, Train Loss: 3.98017954826355, Val Loss: 2.6417486667633057\n",
      "Epoch: 52, Train Loss: 3.969454050064087, Val Loss: 2.6358866691589355\n",
      "Epoch: 53, Train Loss: 3.9633827209472656, Val Loss: 2.6554083824157715\n",
      "Epoch: 54, Train Loss: 3.939361333847046, Val Loss: 2.6051595211029053\n",
      "Epoch: 55, Train Loss: 3.944218635559082, Val Loss: 2.6044747829437256\n",
      "Epoch: 56, Train Loss: 3.953188896179199, Val Loss: 2.5909736156463623\n",
      "Epoch: 57, Train Loss: 3.9471466541290283, Val Loss: 2.583343505859375\n",
      "Epoch: 58, Train Loss: 3.933354139328003, Val Loss: 2.553614616394043\n",
      "Epoch: 59, Train Loss: 3.923283338546753, Val Loss: 2.567298412322998\n",
      "Epoch: 60, Train Loss: 3.922349691390991, Val Loss: 2.582627058029175\n",
      "Epoch: 61, Train Loss: 3.9203107357025146, Val Loss: 2.5667612552642822\n",
      "Epoch: 62, Train Loss: 3.923114538192749, Val Loss: 2.569110631942749\n",
      "Epoch: 63, Train Loss: 3.915720224380493, Val Loss: 2.570053815841675\n",
      "Epoch: 64, Train Loss: 3.9108619689941406, Val Loss: 2.554661512374878\n",
      "Epoch: 65, Train Loss: 3.8955953121185303, Val Loss: 2.5314877033233643\n",
      "Epoch: 66, Train Loss: 3.888075590133667, Val Loss: 2.504978895187378\n",
      "Epoch: 67, Train Loss: 3.899411916732788, Val Loss: 2.53395938873291\n",
      "Epoch: 68, Train Loss: 3.8899648189544678, Val Loss: 2.5118002891540527\n",
      "Epoch: 69, Train Loss: 3.882481813430786, Val Loss: 2.5091285705566406\n",
      "Epoch: 70, Train Loss: 3.875600576400757, Val Loss: 2.531672954559326\n",
      "Epoch: 71, Train Loss: 3.8916711807250977, Val Loss: 2.535126209259033\n",
      "Epoch: 72, Train Loss: 3.875910758972168, Val Loss: 2.5440988540649414\n",
      "Epoch: 73, Train Loss: 3.8695068359375, Val Loss: 2.5209696292877197\n",
      "Epoch: 74, Train Loss: 3.871410608291626, Val Loss: 2.5452094078063965\n",
      "Epoch: 75, Train Loss: 3.844285249710083, Val Loss: 2.5139007568359375\n",
      "Epoch: 76, Train Loss: 3.8509857654571533, Val Loss: 2.5124282836914062\n",
      "Epoch: 77, Train Loss: 3.8660945892333984, Val Loss: 2.4816701412200928\n",
      "Epoch: 78, Train Loss: 3.8585269451141357, Val Loss: 2.4679245948791504\n",
      "Epoch: 79, Train Loss: 3.845019578933716, Val Loss: 2.4763245582580566\n",
      "Epoch: 80, Train Loss: 3.835947036743164, Val Loss: 2.492227077484131\n",
      "Epoch: 81, Train Loss: 3.840590476989746, Val Loss: 2.492546319961548\n",
      "Epoch: 82, Train Loss: 3.823505163192749, Val Loss: 2.4643096923828125\n",
      "Epoch: 83, Train Loss: 3.8358752727508545, Val Loss: 2.465665817260742\n",
      "Epoch: 84, Train Loss: 3.828700065612793, Val Loss: 2.496094226837158\n",
      "Epoch: 85, Train Loss: 3.831061363220215, Val Loss: 2.4435973167419434\n",
      "Epoch: 86, Train Loss: 3.8191425800323486, Val Loss: 2.4874253273010254\n",
      "Epoch: 87, Train Loss: 3.832233428955078, Val Loss: 2.4367284774780273\n",
      "Epoch: 88, Train Loss: 3.8146636486053467, Val Loss: 2.4526968002319336\n",
      "Epoch: 89, Train Loss: 3.810985803604126, Val Loss: 2.442779064178467\n",
      "Epoch: 90, Train Loss: 3.8226964473724365, Val Loss: 2.4788737297058105\n",
      "Epoch: 91, Train Loss: 3.815612554550171, Val Loss: 2.438690423965454\n",
      "Epoch: 92, Train Loss: 3.804166555404663, Val Loss: 2.487156391143799\n",
      "Epoch: 93, Train Loss: 3.7993743419647217, Val Loss: 2.4185047149658203\n",
      "Epoch: 94, Train Loss: 3.8043997287750244, Val Loss: 2.435281991958618\n",
      "Epoch: 95, Train Loss: 3.7969958782196045, Val Loss: 2.3952176570892334\n",
      "Epoch: 96, Train Loss: 3.7750418186187744, Val Loss: 2.415400266647339\n",
      "Epoch: 97, Train Loss: 3.765129804611206, Val Loss: 2.4370932579040527\n",
      "Epoch: 98, Train Loss: 3.793577194213867, Val Loss: 2.434567451477051\n",
      "Epoch: 99, Train Loss: 3.772575616836548, Val Loss: 2.4151549339294434\n",
      "Epoch: 100, Train Loss: 3.767324447631836, Val Loss: 2.4110970497131348\n",
      "Epoch: 101, Train Loss: 3.7684710025787354, Val Loss: 2.4278833866119385\n",
      "Epoch: 102, Train Loss: 3.7821505069732666, Val Loss: 2.4486663341522217\n",
      "Epoch: 103, Train Loss: 3.742457389831543, Val Loss: 2.3655459880828857\n",
      "Epoch: 104, Train Loss: 3.7690212726593018, Val Loss: 2.413823366165161\n",
      "Epoch: 105, Train Loss: 3.7634260654449463, Val Loss: 2.4046263694763184\n",
      "Epoch: 106, Train Loss: 3.751193046569824, Val Loss: 2.389497756958008\n",
      "Epoch: 107, Train Loss: 3.7434909343719482, Val Loss: 2.3721959590911865\n",
      "Epoch: 108, Train Loss: 3.742945909500122, Val Loss: 2.3844001293182373\n",
      "Epoch: 109, Train Loss: 3.732372283935547, Val Loss: 2.3704373836517334\n",
      "Epoch: 110, Train Loss: 3.7388546466827393, Val Loss: 2.3606505393981934\n",
      "Epoch: 111, Train Loss: 3.7181777954101562, Val Loss: 2.3436546325683594\n",
      "Epoch: 112, Train Loss: 3.72609806060791, Val Loss: 2.3568837642669678\n",
      "Epoch: 113, Train Loss: 3.7085025310516357, Val Loss: 2.355821371078491\n",
      "Epoch: 114, Train Loss: 3.714754104614258, Val Loss: 2.3515067100524902\n",
      "Epoch: 115, Train Loss: 3.7037036418914795, Val Loss: 2.335200309753418\n",
      "Epoch: 116, Train Loss: 3.699220895767212, Val Loss: 2.3750219345092773\n"
     ]
    },
    {
     "name": "stdout",
     "output_type": "stream",
     "text": [
      "Epoch: 117, Train Loss: 3.708376884460449, Val Loss: 2.3115360736846924\n",
      "Epoch: 118, Train Loss: 3.687690019607544, Val Loss: 2.3126611709594727\n",
      "Epoch: 119, Train Loss: 3.695298194885254, Val Loss: 2.3491146564483643\n",
      "Epoch: 120, Train Loss: 3.699101448059082, Val Loss: 2.3066117763519287\n",
      "Epoch: 121, Train Loss: 3.670861005783081, Val Loss: 2.33760404586792\n",
      "Epoch: 122, Train Loss: 3.6794073581695557, Val Loss: 2.3499515056610107\n",
      "Epoch: 123, Train Loss: 3.6945321559906006, Val Loss: 2.328930377960205\n",
      "Epoch: 124, Train Loss: 3.666229248046875, Val Loss: 2.338587999343872\n",
      "Epoch: 125, Train Loss: 3.6659257411956787, Val Loss: 2.311631441116333\n",
      "Epoch: 126, Train Loss: 3.666057586669922, Val Loss: 2.3199124336242676\n",
      "Epoch: 127, Train Loss: 3.6664483547210693, Val Loss: 2.287238359451294\n",
      "Epoch: 128, Train Loss: 3.651259183883667, Val Loss: 2.3254501819610596\n"
     ]
    }
   ],
   "source": [
    "model = train_model(G_train=G_train, G_validation=G_validation, out_channels=16)"
   ]
  },
  {
   "cell_type": "code",
   "execution_count": 12,
   "id": "4b8abd53",
   "metadata": {},
   "outputs": [],
   "source": [
    "with torch.no_grad():\n",
    "    output = convert_networkx_to_pyg(G_test, feature_key='features')\n",
    "    output = model(output.x, output.edge_index).cpu().numpy()"
   ]
  },
  {
   "cell_type": "code",
   "execution_count": 13,
   "id": "e24a4905",
   "metadata": {},
   "outputs": [
    {
     "data": {
      "text/plain": [
       "array([[-0.5485084 , -0.419432  ,  0.26395088, ..., -0.14829238,\n",
       "        -0.17089432, -0.03522058],\n",
       "       [ 0.03910124,  0.29590836, -0.14206903, ...,  0.05155313,\n",
       "        -0.11578859,  0.11634858],\n",
       "       [ 0.40401995,  0.16919678,  0.43248257, ...,  0.01236147,\n",
       "         0.18967327,  0.03801519],\n",
       "       ...,\n",
       "       [-0.21985757,  0.11428983, -0.18426982, ...,  0.14622827,\n",
       "        -0.27523315, -0.04854512],\n",
       "       [-0.18164545, -0.16415286, -0.0637383 , ...,  0.36746827,\n",
       "        -0.48642635,  0.08968247],\n",
       "       [ 0.04627097, -0.15297951, -0.20815594, ...,  0.00556035,\n",
       "        -0.18334222,  0.06650338]], dtype=float32)"
      ]
     },
     "execution_count": 13,
     "metadata": {},
     "output_type": "execute_result"
    }
   ],
   "source": [
    "output"
   ]
  },
  {
   "cell_type": "code",
   "execution_count": 14,
   "id": "183b893a",
   "metadata": {},
   "outputs": [
    {
     "data": {
      "text/plain": [
       "(2048, 16)"
      ]
     },
     "execution_count": 14,
     "metadata": {},
     "output_type": "execute_result"
    }
   ],
   "source": [
    "output.shape"
   ]
  },
  {
   "cell_type": "code",
   "execution_count": 15,
   "id": "5de1535d",
   "metadata": {},
   "outputs": [
    {
     "name": "stdout",
     "output_type": "stream",
     "text": [
      "Mean Squared Error: 0.013035198067411671\n"
     ]
    },
    {
     "data": {
      "image/png": "[encoded data removed]",
      "text/plain": [
       "<Figure size 1000x600 with 1 Axes>"
      ]
     },
     "metadata": {},
     "output_type": "display_data"
    }
   ],
   "source": [
    "regressor = LinearRegression()\n",
    "regressor.fit(output, y_test)\n",
    "y_pred = regressor.predict(output)\n",
    "\n",
    "mse = mean_squared_error(y_test, y_pred)\n",
    "print(\"Mean Squared Error:\", mse)\n",
    "\n",
    "plt.figure(figsize=(10, 6))\n",
    "plt.scatter(y_test, y_pred, color='blue', label='Predictions')\n",
    "plt.plot([min(y_test), max(y_test)], [min(y_test), max(y_test)], color='red', linestyle='--', label='Perfect Fit')\n",
    "plt.title('Linear Regression - Predicted vs Actual')\n",
    "plt.xlabel('Actual')\n",
    "plt.ylabel('Predicted')\n",
    "plt.legend()\n",
    "plt.show()"
   ]
  },
  {
   "cell_type": "code",
   "execution_count": null,
   "id": "b80392d4",
   "metadata": {},
   "outputs": [],
   "source": []
  }
 ],
 "metadata": {
  "kernelspec": {
   "display_name": "Python 3",
   "language": "python",
   "name": "python3"
  },
  "language_info": {
   "codemirror_mode": {
    "name": "ipython",
    "version": 3
   },
   "file_extension": ".py",
   "mimetype": "text/x-python",
   "name": "python",
   "nbconvert_exporter": "python",
   "pygments_lexer": "ipython3",
   "version": "3.8.10"
  }
 },
 "nbformat": 4,
 "nbformat_minor": 5
}
