{
 "cells": [
  {
   "cell_type": "code",
   "execution_count": null,
   "id": "initial_id",
   "metadata": {},
   "outputs": [],
   "source": [
    "import matplotlib.pyplot as plt\n",
    "import numpy as np\n",
    "import seaborn as sns\n",
    "import torch\n",
    "import torch.nn as nn\n",
    "import torch.optim as optim\n",
    "from sklearn.datasets import make_classification\n",
    "from sklearn.preprocessing import StandardScaler\n",
    "from torch.utils.data import DataLoader, Dataset\n",
    "\n",
    "\n",
    "plt.rcParams['figure.figsize'] = [16, 4]"
   ]
  },
  {
   "cell_type": "code",
   "execution_count": null,
   "id": "5d189da7-25be-4678-9e87-106d1c042b43",
   "metadata": {},
   "outputs": [],
   "source": [
    "num_rows = 131072\n",
    "num_features = 8\n",
    "\n",
    "X, _ = make_classification(n_samples=num_rows, n_features=num_features)\n",
    "\n",
    "scaler = StandardScaler()\n",
    "X = scaler.fit_transform(X)\n",
    "\n",
    "coefficients = np.random.randn(num_features)\n",
    "linear_combination = np.dot(X, coefficients)\n",
    "\n",
    "target = 1 / (1 + np.exp(-linear_combination))\n",
    "target = np.clip(target, 0, 1)"
   ]
  },
  {
   "cell_type": "code",
   "execution_count": null,
   "id": "46600fb8-9945-49f2-84e0-2d8d64bf8da1",
   "metadata": {},
   "outputs": [],
   "source": [
    "X"
   ]
  },
  {
   "cell_type": "code",
   "execution_count": null,
   "id": "19dcce37-2127-409d-b732-c2d321ee0b85",
   "metadata": {},
   "outputs": [],
   "source": [
    "target"
   ]
  },
  {
   "cell_type": "code",
   "execution_count": null,
   "id": "d5cdca67-b1fd-44c2-82b7-a2a4b635a4e5",
   "metadata": {},
   "outputs": [],
   "source": [
    "sns.kdeplot(target)"
   ]
  },
  {
   "cell_type": "code",
   "execution_count": null,
   "id": "bda0b8cc-6b8e-4bda-b903-2044906f4712",
   "metadata": {},
   "outputs": [],
   "source": [
    "threshold = np.median(target)\n",
    "\n",
    "zero_pairs = np.where(target < threshold)[0]\n",
    "zero_pairs = np.random.choice(zero_pairs, size=(65536, 2), replace=True)\n",
    "\n",
    "one_pairs = np.where(target > threshold)[0]\n",
    "one_pairs = np.random.choice(one_pairs, size=(65536, 2), replace=True)"
   ]
  },
  {
   "cell_type": "code",
   "execution_count": null,
   "id": "7ec4d1e9-39c4-410c-9741-7a47c1c40f0b",
   "metadata": {},
   "outputs": [],
   "source": [
    "class TabularSiameseDataset(Dataset):\n",
    "\t\n",
    "\tdef __init__(self, data, labels):\n",
    "\t\tself.data = data\n",
    "\t\tself.labels = labels\n",
    "\t\n",
    "\tdef __len__(self):\n",
    "\t\treturn len(self.labels)\n",
    "\t\n",
    "\tdef __getitem__(self, idx):\n",
    "\t\tindex1, index2, label = self.labels[idx]\n",
    "\t\treturn self.data[index1], self.data[index2], label\n",
    "\n",
    "\n",
    "# Example Data (randomly generated)\n",
    "data = torch.randn(100, 10)  # 100 samples, 10 features each\n",
    "pairs = [(i, i + 1, 1) for i in range(0, 50, 2)] + [(i, i + 1, 0) for i in range(1, 50, 2)]\n",
    "dataset = TabularSiameseDataset(data, pairs)\n",
    "dataloader = DataLoader(dataset, batch_size=10, shuffle=True)"
   ]
  },
  {
   "cell_type": "code",
   "execution_count": null,
   "id": "28b67b25-6be0-403f-a206-802b6d558a5e",
   "metadata": {},
   "outputs": [],
   "source": [
    "class SiameseNetwork(nn.Module):\n",
    "\t\n",
    "\tdef __init__(self):\n",
    "\t\tsuper(SiameseNetwork, self).__init__()\n",
    "\t\tself.net = nn.Sequential(\n",
    "\t\t\t\tnn.Linear(10, 20),\n",
    "\t\t\t\tnn.ReLU(),\n",
    "\t\t\t\tnn.Linear(20, 10),\n",
    "\t\t\t\tnn.ReLU(),\n",
    "\t\t\t\tnn.Linear(10, 5)  # Embedding space dimension\n",
    "\t\t\t\t)\n",
    "\t\n",
    "\tdef forward(self, input1, input2):\n",
    "\t\toutput1 = self.net(input1)\n",
    "\t\toutput2 = self.net(input2)\n",
    "\t\treturn output1, output2\n",
    "\n",
    "\n",
    "model = SiameseNetwork()"
   ]
  },
  {
   "cell_type": "code",
   "execution_count": null,
   "id": "79572670-82c9-484f-a506-0b06b6267560",
   "metadata": {},
   "outputs": [],
   "source": [
    "class ContrastiveLoss(nn.Module):\n",
    "\t\n",
    "\tdef __init__(self, margin=1.0):\n",
    "\t\tsuper(ContrastiveLoss, self).__init__()\n",
    "\t\tself.margin = margin\n",
    "\t\n",
    "\tdef forward(self, output1, output2, label):\n",
    "\t\teuclidean_distance = nn.functional.pairwise_distance(output1, output2)\n",
    "\t\tloss = (1 - label) * torch.pow(euclidean_distance, 2) + \\\n",
    "\t\t       label * torch.pow(torch.clamp(self.margin - euclidean_distance, min=0.0), 2)\n",
    "\t\treturn loss.mean()"
   ]
  },
  {
   "cell_type": "code",
   "execution_count": null,
   "id": "15c3bd34-6ad3-41d0-8b9d-4d498bed958c",
   "metadata": {},
   "outputs": [],
   "source": [
    "loss_fn = ContrastiveLoss()\n",
    "optimizer = optim.Adam(model.parameters(), lr=0.01)"
   ]
  },
  {
   "cell_type": "code",
   "execution_count": null,
   "id": "becadda9-e30b-4782-9ea7-cd0a571971e9",
   "metadata": {},
   "outputs": [],
   "source": [
    "def train(dataloader, model, loss_fn, optimizer, epochs):\n",
    "\tmodel.train()\n",
    "\tfor epoch in range(epochs):\n",
    "\t\trunning_loss = 0.0\n",
    "\t\tfor data1, data2, labels in dataloader:\n",
    "\t\t\toptimizer.zero_grad()\n",
    "\t\t\toutputs1, outputs2 = model(data1, data2)\n",
    "\t\t\tloss = loss_fn(outputs1, outputs2, labels)\n",
    "\t\t\tloss.backward()\n",
    "\t\t\toptimizer.step()\n",
    "\t\t\trunning_loss += loss.item()\n",
    "\t\tprint(f'Epoch {epoch + 1}, Loss: {running_loss / len(dataloader)}')\n",
    "\n",
    "\n",
    "# Train the model\n",
    "train(dataloader, model, loss_fn, optimizer, epochs=10)"
   ]
  },
  {
   "cell_type": "code",
   "execution_count": null,
   "id": "a0e0d59f-950d-4345-a880-08fd975bbda7",
   "metadata": {},
   "outputs": [],
   "source": []
  }
 ],
 "metadata": {
  "kernelspec": {
   "display_name": "Python 3 (ipykernel)",
   "language": "python",
   "name": "python3"
  },
  "language_info": {
   "codemirror_mode": {
    "name": "ipython",
    "version": 3
   },
   "file_extension": ".py",
   "mimetype": "text/x-python",
   "name": "python",
   "nbconvert_exporter": "python",
   "pygments_lexer": "ipython3",
   "version": "3.8.10"
  }
 },
 "nbformat": 4,
 "nbformat_minor": 5
}
