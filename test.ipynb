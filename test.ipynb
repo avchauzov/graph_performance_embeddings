{
 "cells": [
  {
   "cell_type": "code",
   "execution_count": 2,
   "id": "initial_id",
   "metadata": {},
   "outputs": [],
   "source": [
    "from collections import Counter\n",
    "\n",
    "import matplotlib.pyplot as plt\n",
    "import numpy as np\n",
    "import torch\n",
    "import torch.nn as nn\n",
    "import torch.optim as optim\n",
    "from sklearn.datasets import make_classification\n",
    "from sklearn.preprocessing import MinMaxScaler\n",
    "from torch.utils.data import DataLoader, Dataset\n",
    "\n",
    "\n",
    "plt.rcParams['figure.figsize'] = [16, 4]"
   ]
  },
  {
   "cell_type": "code",
   "execution_count": 3,
   "id": "5d189da7-25be-4678-9e87-106d1c042b43",
   "metadata": {},
   "outputs": [],
   "source": [
    "num_rows = int(131072 / 2)\n",
    "num_features = 8\n",
    "\n",
    "X, target = make_classification(n_samples=num_rows, n_features=num_features)\n",
    "\n",
    "scaler = MinMaxScaler()\n",
    "X = scaler.fit_transform(X)"
   ]
  },
  {
   "cell_type": "code",
   "execution_count": 4,
   "id": "46600fb8-9945-49f2-84e0-2d8d64bf8da1",
   "metadata": {},
   "outputs": [
    {
     "data": {
      "text/plain": [
       "Counter({1: 32763, 0: 32773})"
      ]
     },
     "execution_count": 4,
     "metadata": {},
     "output_type": "execute_result"
    }
   ],
   "source": [
    "Counter(target)"
   ]
  },
  {
   "cell_type": "code",
   "execution_count": 5,
   "id": "bda0b8cc-6b8e-4bda-b903-2044906f4712",
   "metadata": {},
   "outputs": [],
   "source": [
    "threshold = np.median(target)\n",
    "\n",
    "zero_pairs = np.where(target == 0)[0]\n",
    "zero_pairs = np.random.choice(zero_pairs, size=(65536, 2), replace=True)\n",
    "\n",
    "one_pairs = np.where(target == 1)[0]\n",
    "one_pairs = np.random.choice(one_pairs, size=(65536, 2), replace=True)"
   ]
  },
  {
   "cell_type": "code",
   "execution_count": 6,
   "id": "0858437f-b08b-4537-bdfa-9b8ef46a399e",
   "metadata": {},
   "outputs": [],
   "source": [
    "class TabularSiameseDataset(Dataset):\n",
    "\t\n",
    "\tdef __init__(self, data, pairs):\n",
    "\t\tself.data = data\n",
    "\t\tself.pairs = pairs\n",
    "\t\n",
    "\tdef __len__(self):\n",
    "\t\treturn len(self.pairs)\n",
    "\t\n",
    "\tdef __getitem__(self, idx):\n",
    "\t\tindex1, index2, label = self.pairs[idx]\n",
    "\t\treturn self.data[index1], self.data[index2], label\n",
    "\n",
    "\n",
    "pairs = [(zero_pairs[i, 0], zero_pairs[i, 1], 0) for i in range(len(zero_pairs))] + \\\n",
    "        [(one_pairs[i, 0], one_pairs[i, 1], 1) for i in range(len(one_pairs))]\n",
    "\n",
    "dataset = TabularSiameseDataset(X, pairs)\n",
    "dataloader = DataLoader(dataset, batch_size=10, shuffle=True)"
   ]
  },
  {
   "cell_type": "code",
   "execution_count": 7,
   "id": "33f40abe-2271-4481-a076-6407f689d107",
   "metadata": {},
   "outputs": [],
   "source": [
    "#"
   ]
  },
  {
   "cell_type": "code",
   "execution_count": 8,
   "id": "10c66ba4-60d7-48ac-af29-f20da5a4634a",
   "metadata": {},
   "outputs": [],
   "source": [
    "class ContrastiveLoss(nn.Module):\n",
    "\t\n",
    "\tdef __init__(self, margin=1.0):\n",
    "\t\tsuper(ContrastiveLoss, self).__init__()\n",
    "\t\tself.margin = margin\n",
    "\t\n",
    "\tdef forward(self, output1, output2, label):\n",
    "\t\tcosine_similarity = nn.functional.cosine_similarity(output1, output2)\n",
    "\t\tloss = (1 - label) * torch.pow(cosine_similarity, 2) + \\\n",
    "\t\t       label * torch.pow(torch.clamp(self.margin - cosine_similarity, min=0.0), 2)\n",
    "\t\treturn loss.mean()"
   ]
  },
  {
   "cell_type": "code",
   "execution_count": 9,
   "id": "9b9ed3af-c23d-4998-8bc5-02884265caac",
   "metadata": {},
   "outputs": [],
   "source": [
    "loss_fn = ContrastiveLoss()"
   ]
  },
  {
   "cell_type": "code",
   "execution_count": 10,
   "id": "8019509c-4f74-4c15-9768-9b47852e9aef",
   "metadata": {},
   "outputs": [],
   "source": [
    "#"
   ]
  },
  {
   "cell_type": "code",
   "execution_count": 11,
   "id": "b1fe096d-f948-4ea1-8a9e-4352712f73cd",
   "metadata": {},
   "outputs": [],
   "source": [
    "class SiameseNetwork(nn.Module):\n",
    "\t\n",
    "\tdef __init__(self, input_size):\n",
    "\t\tsuper(SiameseNetwork, self).__init__()\n",
    "\t\tself.net = nn.Sequential(\n",
    "\t\t\t\tnn.Linear(input_size, 32),\n",
    "\t\t\t\tnn.ReLU(),\n",
    "\t\t\t\tnn.Linear(32, 16),\n",
    "\t\t\t\tnn.ReLU(),\n",
    "\t\t\t\tnn.Linear(16, 8)\n",
    "\t\t\t\t)\n",
    "\t\n",
    "\tdef forward(self, input1, input2):\n",
    "\t\toutput1 = self.net(input1)\n",
    "\t\toutput2 = self.net(input2)\n",
    "\t\treturn output1, output2\n",
    "\n",
    "\n",
    "input_size = X.shape[1]\n",
    "model = SiameseNetwork(input_size)\n",
    "optimizer = optim.Adam(model.parameters(), lr=0.01)"
   ]
  },
  {
   "cell_type": "code",
   "execution_count": 12,
   "id": "55fa8500-e42f-4d1b-9f01-30fa0ccd3155",
   "metadata": {},
   "outputs": [],
   "source": [
    "def train(dataloader, model, loss_fn, optimizer, epochs):\n",
    "\tmodel.train()\n",
    "\t\n",
    "\tfor epoch in range(epochs):\n",
    "\t\trunning_loss = 0.0\n",
    "\t\tfor data1, data2, labels in dataloader:\n",
    "\t\t\tdata1 = data1.float()\n",
    "\t\t\tdata2 = data2.float()\n",
    "\t\t\t\n",
    "\t\t\toptimizer.zero_grad()\n",
    "\t\t\toutputs1, outputs2 = model(data1, data2)\n",
    "\t\t\tloss = loss_fn(outputs1, outputs2, labels)\n",
    "\t\t\tloss.backward()\n",
    "\t\t\toptimizer.step()\n",
    "\t\t\trunning_loss += loss.item()\n",
    "\t\t\n",
    "\t\tprint(f'Epoch {epoch + 1}, Loss: {running_loss / len(dataloader)}')"
   ]
  },
  {
   "cell_type": "code",
   "execution_count": 13,
   "id": "0e52d0fe-cc70-4e1d-8cdf-b6ba58b3b583",
   "metadata": {},
   "outputs": [
    {
     "name": "stdout",
     "output_type": "stream",
     "text": [
      "Epoch 1, Loss: 0.12168778084642679\n",
      "Epoch 2, Loss: 0.09523369789578393\n",
      "Epoch 3, Loss: 0.09029894289071282\n",
      "Epoch 4, Loss: 0.08876177884220077\n",
      "Epoch 5, Loss: 0.08874132577761613\n",
      "Epoch 6, Loss: 0.08742491776010194\n",
      "Epoch 7, Loss: 0.08666748772478786\n",
      "Epoch 8, Loss: 0.08602169108741167\n",
      "Epoch 9, Loss: 0.08531260282554784\n",
      "Epoch 10, Loss: 0.08550605485177527\n"
     ]
    }
   ],
   "source": [
    "train(dataloader, model, loss_fn, optimizer, epochs=10)"
   ]
  },
  {
   "cell_type": "code",
   "execution_count": 15,
   "id": "a0e0d59f-950d-4345-a880-08fd975bbda7",
   "metadata": {},
   "outputs": [
    {
     "name": "stdout",
     "output_type": "stream",
     "text": [
      "tensor([[ 137.5767,  -32.3416,  -17.5775,  ...,  -10.9405,   23.2730,\n",
      "            1.2067],\n",
      "        [ 696.0217,  -91.0634,   24.6970,  ...,   27.9498,   38.8960,\n",
      "           98.3119],\n",
      "        [  12.6512,   23.2901,  -66.5433,  ...,  -44.2399,   -3.0427,\n",
      "           12.4173],\n",
      "        ...,\n",
      "        [ 702.3848, -121.5195,  -32.6355,  ...,   -7.6106,   79.7274,\n",
      "           60.5355],\n",
      "        [  26.3347,    4.5656,   -9.8445,  ...,    3.9515,   -1.8407,\n",
      "          -14.6493],\n",
      "        [ 211.9185,  -44.1644,  -21.3051,  ...,  -11.1212,   31.9979,\n",
      "            9.0213]])\n"
     ]
    }
   ],
   "source": [
    "input_tensor = torch.tensor(X, dtype=torch.float)\n",
    "with torch.no_grad():\n",
    "\tembeddings = model.net(input_tensor)\n",
    "\n",
    "print(embeddings)"
   ]
  },
  {
   "cell_type": "code",
   "execution_count": null,
   "id": "914cb341-03a0-4030-a767-109fd1aa5f87",
   "metadata": {},
   "outputs": [],
   "source": []
  }
 ],
 "metadata": {
  "kernelspec": {
   "display_name": "Python 3 (ipykernel)",
   "language": "python",
   "name": "python3"
  },
  "language_info": {
   "codemirror_mode": {
    "name": "ipython",
    "version": 3
   },
   "file_extension": ".py",
   "mimetype": "text/x-python",
   "name": "python",
   "nbconvert_exporter": "python",
   "pygments_lexer": "ipython3",
   "version": "3.8.10"
  }
 },
 "nbformat": 4,
 "nbformat_minor": 5
}
